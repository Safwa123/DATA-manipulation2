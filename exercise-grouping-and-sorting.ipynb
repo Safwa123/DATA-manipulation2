{
 "cells": [
  {
   "cell_type": "markdown",
   "id": "158dee29",
   "metadata": {
    "papermill": {
     "duration": 0.005698,
     "end_time": "2022-07-10T17:46:29.528401",
     "exception": false,
     "start_time": "2022-07-10T17:46:29.522703",
     "status": "completed"
    },
    "tags": []
   },
   "source": [
    "**This notebook is an exercise in the [Pandas](https://www.kaggle.com/learn/pandas) course.  You can reference the tutorial at [this link](https://www.kaggle.com/residentmario/grouping-and-sorting).**\n",
    "\n",
    "---\n"
   ]
  },
  {
   "cell_type": "markdown",
   "id": "fd64a010",
   "metadata": {
    "papermill": {
     "duration": 0.004503,
     "end_time": "2022-07-10T17:46:29.537790",
     "exception": false,
     "start_time": "2022-07-10T17:46:29.533287",
     "status": "completed"
    },
    "tags": []
   },
   "source": [
    "# Introduction\n",
    "\n",
    "In these exercises we'll apply groupwise analysis to our dataset.\n",
    "\n",
    "Run the code cell below to load the data before running the exercises."
   ]
  },
  {
   "cell_type": "code",
   "execution_count": 1,
   "id": "84b5130f",
   "metadata": {
    "execution": {
     "iopub.execute_input": "2022-07-10T17:46:29.550231Z",
     "iopub.status.busy": "2022-07-10T17:46:29.549353Z",
     "iopub.status.idle": "2022-07-10T17:46:32.707963Z",
     "shell.execute_reply": "2022-07-10T17:46:32.706165Z"
    },
    "papermill": {
     "duration": 3.169025,
     "end_time": "2022-07-10T17:46:32.711497",
     "exception": false,
     "start_time": "2022-07-10T17:46:29.542472",
     "status": "completed"
    },
    "tags": []
   },
   "outputs": [
    {
     "name": "stdout",
     "output_type": "stream",
     "text": [
      "Setup complete.\n"
     ]
    }
   ],
   "source": [
    "import pandas as pd\n",
    "\n",
    "reviews = pd.read_csv(\"../input/wine-reviews/winemag-data-130k-v2.csv\", index_col=0)\n",
    "#pd.set_option(\"display.max_rows\", 5)\n",
    "\n",
    "from learntools.core import binder; binder.bind(globals())\n",
    "from learntools.pandas.grouping_and_sorting import *\n",
    "print(\"Setup complete.\")"
   ]
  },
  {
   "cell_type": "markdown",
   "id": "db87e87d",
   "metadata": {
    "papermill": {
     "duration": 0.004442,
     "end_time": "2022-07-10T17:46:32.721793",
     "exception": false,
     "start_time": "2022-07-10T17:46:32.717351",
     "status": "completed"
    },
    "tags": []
   },
   "source": [
    "# Exercises"
   ]
  },
  {
   "cell_type": "markdown",
   "id": "3fd386ae",
   "metadata": {
    "papermill": {
     "duration": 0.004723,
     "end_time": "2022-07-10T17:46:32.731285",
     "exception": false,
     "start_time": "2022-07-10T17:46:32.726562",
     "status": "completed"
    },
    "tags": []
   },
   "source": [
    "## 1.\n",
    "Who are the most common wine reviewers in the dataset? Create a `Series` whose index is the `taster_twitter_handle` category from the dataset, and whose values count how many reviews each person wrote."
   ]
  },
  {
   "cell_type": "code",
   "execution_count": 2,
   "id": "91d72083",
   "metadata": {
    "execution": {
     "iopub.execute_input": "2022-07-10T17:46:32.743138Z",
     "iopub.status.busy": "2022-07-10T17:46:32.742126Z",
     "iopub.status.idle": "2022-07-10T17:46:32.771782Z",
     "shell.execute_reply": "2022-07-10T17:46:32.770398Z"
    },
    "papermill": {
     "duration": 0.038292,
     "end_time": "2022-07-10T17:46:32.774432",
     "exception": false,
     "start_time": "2022-07-10T17:46:32.736140",
     "status": "completed"
    },
    "tags": []
   },
   "outputs": [
    {
     "data": {
      "application/javascript": [
       "parent.postMessage({\"jupyterEvent\": \"custom.exercise_interaction\", \"data\": {\"outcomeType\": 1, \"valueTowardsCompletion\": 0.16666666666666666, \"interactionType\": 1, \"questionType\": 1, \"questionId\": \"1_ReviewsWritten\", \"learnToolsVersion\": \"0.3.4\", \"failureMessage\": \"\", \"exceptionClass\": \"\", \"trace\": \"\"}}, \"*\")"
      ],
      "text/plain": [
       "<IPython.core.display.Javascript object>"
      ]
     },
     "metadata": {},
     "output_type": "display_data"
    },
    {
     "data": {
      "text/markdown": [
       "<span style=\"color:#33cc33\">Correct:</span> \n",
       "\n",
       "\n",
       "```python\n",
       "reviews_written = reviews.groupby('taster_twitter_handle').size()\n",
       "```\n",
       "or\n",
       "```python\n",
       "reviews_written = reviews.groupby('taster_twitter_handle').taster_twitter_handle.count()\n",
       "```\n"
      ],
      "text/plain": [
       "Correct: \n",
       "\n",
       "\n",
       "```python\n",
       "reviews_written = reviews.groupby('taster_twitter_handle').size()\n",
       "```\n",
       "or\n",
       "```python\n",
       "reviews_written = reviews.groupby('taster_twitter_handle').taster_twitter_handle.count()\n",
       "```"
      ]
     },
     "metadata": {},
     "output_type": "display_data"
    }
   ],
   "source": [
    "# Your code here\n",
    "reviews_written =  reviews.groupby('taster_twitter_handle').taster_twitter_handle.count()\n",
    "\n",
    "# Check your answer\n",
    "q1.check()"
   ]
  },
  {
   "cell_type": "code",
   "execution_count": 3,
   "id": "0fda8706",
   "metadata": {
    "execution": {
     "iopub.execute_input": "2022-07-10T17:46:32.786096Z",
     "iopub.status.busy": "2022-07-10T17:46:32.785675Z",
     "iopub.status.idle": "2022-07-10T17:46:32.790381Z",
     "shell.execute_reply": "2022-07-10T17:46:32.789287Z"
    },
    "papermill": {
     "duration": 0.012896,
     "end_time": "2022-07-10T17:46:32.792293",
     "exception": false,
     "start_time": "2022-07-10T17:46:32.779397",
     "status": "completed"
    },
    "tags": []
   },
   "outputs": [],
   "source": [
    "#q1.hint()\n",
    "#q1.solution()"
   ]
  },
  {
   "cell_type": "markdown",
   "id": "08277539",
   "metadata": {
    "papermill": {
     "duration": 0.004759,
     "end_time": "2022-07-10T17:46:32.802241",
     "exception": false,
     "start_time": "2022-07-10T17:46:32.797482",
     "status": "completed"
    },
    "tags": []
   },
   "source": [
    "## 2.\n",
    "What is the best wine I can buy for a given amount of money? Create a `Series` whose index is wine prices and whose values is the maximum number of points a wine costing that much was given in a review. Sort the values by price, ascending (so that `4.0` dollars is at the top and `3300.0` dollars is at the bottom)."
   ]
  },
  {
   "cell_type": "code",
   "execution_count": 4,
   "id": "c74c0b4f",
   "metadata": {
    "execution": {
     "iopub.execute_input": "2022-07-10T17:46:32.814933Z",
     "iopub.status.busy": "2022-07-10T17:46:32.814404Z",
     "iopub.status.idle": "2022-07-10T17:46:32.828014Z",
     "shell.execute_reply": "2022-07-10T17:46:32.826830Z"
    },
    "papermill": {
     "duration": 0.023252,
     "end_time": "2022-07-10T17:46:32.830394",
     "exception": false,
     "start_time": "2022-07-10T17:46:32.807142",
     "status": "completed"
    },
    "tags": []
   },
   "outputs": [
    {
     "data": {
      "application/javascript": [
       "parent.postMessage({\"jupyterEvent\": \"custom.exercise_interaction\", \"data\": {\"outcomeType\": 1, \"valueTowardsCompletion\": 0.16666666666666666, \"interactionType\": 1, \"questionType\": 1, \"questionId\": \"2_BestRatingPerPrice\", \"learnToolsVersion\": \"0.3.4\", \"failureMessage\": \"\", \"exceptionClass\": \"\", \"trace\": \"\"}}, \"*\")"
      ],
      "text/plain": [
       "<IPython.core.display.Javascript object>"
      ]
     },
     "metadata": {},
     "output_type": "display_data"
    },
    {
     "data": {
      "text/markdown": [
       "<span style=\"color:#33cc33\">Correct</span>"
      ],
      "text/plain": [
       "Correct"
      ]
     },
     "metadata": {},
     "output_type": "display_data"
    }
   ],
   "source": [
    "best_rating_per_price =  reviews.groupby('price').points.max()\n",
    "\n",
    "# Check your answer\n",
    "q2.check()"
   ]
  },
  {
   "cell_type": "code",
   "execution_count": 5,
   "id": "c284feb2",
   "metadata": {
    "execution": {
     "iopub.execute_input": "2022-07-10T17:46:32.842622Z",
     "iopub.status.busy": "2022-07-10T17:46:32.842195Z",
     "iopub.status.idle": "2022-07-10T17:46:32.846944Z",
     "shell.execute_reply": "2022-07-10T17:46:32.845699Z"
    },
    "papermill": {
     "duration": 0.013518,
     "end_time": "2022-07-10T17:46:32.849199",
     "exception": false,
     "start_time": "2022-07-10T17:46:32.835681",
     "status": "completed"
    },
    "tags": []
   },
   "outputs": [],
   "source": [
    "#q2.hint()\n",
    "#q2.solution()"
   ]
  },
  {
   "cell_type": "markdown",
   "id": "2db821d5",
   "metadata": {
    "papermill": {
     "duration": 0.004874,
     "end_time": "2022-07-10T17:46:32.859576",
     "exception": false,
     "start_time": "2022-07-10T17:46:32.854702",
     "status": "completed"
    },
    "tags": []
   },
   "source": [
    "## 3.\n",
    "What are the minimum and maximum prices for each `variety` of wine? Create a `DataFrame` whose index is the `variety` category from the dataset and whose values are the `min` and `max` values thereof."
   ]
  },
  {
   "cell_type": "code",
   "execution_count": 6,
   "id": "ea66a542",
   "metadata": {
    "execution": {
     "iopub.execute_input": "2022-07-10T17:46:32.871775Z",
     "iopub.status.busy": "2022-07-10T17:46:32.871052Z",
     "iopub.status.idle": "2022-07-10T17:46:32.895532Z",
     "shell.execute_reply": "2022-07-10T17:46:32.894676Z"
    },
    "papermill": {
     "duration": 0.032912,
     "end_time": "2022-07-10T17:46:32.897569",
     "exception": false,
     "start_time": "2022-07-10T17:46:32.864657",
     "status": "completed"
    },
    "tags": []
   },
   "outputs": [
    {
     "data": {
      "application/javascript": [
       "parent.postMessage({\"jupyterEvent\": \"custom.exercise_interaction\", \"data\": {\"outcomeType\": 1, \"valueTowardsCompletion\": 0.16666666666666666, \"interactionType\": 1, \"questionType\": 1, \"questionId\": \"3_PriceExtremes\", \"learnToolsVersion\": \"0.3.4\", \"failureMessage\": \"\", \"exceptionClass\": \"\", \"trace\": \"\"}}, \"*\")"
      ],
      "text/plain": [
       "<IPython.core.display.Javascript object>"
      ]
     },
     "metadata": {},
     "output_type": "display_data"
    },
    {
     "data": {
      "text/markdown": [
       "<span style=\"color:#33cc33\">Correct</span>"
      ],
      "text/plain": [
       "Correct"
      ]
     },
     "metadata": {},
     "output_type": "display_data"
    }
   ],
   "source": [
    "price_extremes =reviews.groupby('variety').price.agg([min, max])\n",
    "\n",
    "# Check your answer\n",
    "q3.check()"
   ]
  },
  {
   "cell_type": "code",
   "execution_count": 7,
   "id": "20f65e8a",
   "metadata": {
    "execution": {
     "iopub.execute_input": "2022-07-10T17:46:32.910297Z",
     "iopub.status.busy": "2022-07-10T17:46:32.909249Z",
     "iopub.status.idle": "2022-07-10T17:46:32.913488Z",
     "shell.execute_reply": "2022-07-10T17:46:32.912481Z"
    },
    "papermill": {
     "duration": 0.012732,
     "end_time": "2022-07-10T17:46:32.915626",
     "exception": false,
     "start_time": "2022-07-10T17:46:32.902894",
     "status": "completed"
    },
    "tags": []
   },
   "outputs": [],
   "source": [
    "#q3.hint()\n",
    "#q3.solution()"
   ]
  },
  {
   "cell_type": "markdown",
   "id": "6ffa04cb",
   "metadata": {
    "papermill": {
     "duration": 0.005034,
     "end_time": "2022-07-10T17:46:32.926402",
     "exception": false,
     "start_time": "2022-07-10T17:46:32.921368",
     "status": "completed"
    },
    "tags": []
   },
   "source": [
    "## 4.\n",
    "What are the most expensive wine varieties? Create a variable `sorted_varieties` containing a copy of the dataframe from the previous question where varieties are sorted in descending order based on minimum price, then on maximum price (to break ties)."
   ]
  },
  {
   "cell_type": "code",
   "execution_count": 8,
   "id": "397378e8",
   "metadata": {
    "execution": {
     "iopub.execute_input": "2022-07-10T17:46:32.939502Z",
     "iopub.status.busy": "2022-07-10T17:46:32.938798Z",
     "iopub.status.idle": "2022-07-10T17:46:32.948302Z",
     "shell.execute_reply": "2022-07-10T17:46:32.947284Z"
    },
    "papermill": {
     "duration": 0.018689,
     "end_time": "2022-07-10T17:46:32.950408",
     "exception": false,
     "start_time": "2022-07-10T17:46:32.931719",
     "status": "completed"
    },
    "tags": []
   },
   "outputs": [
    {
     "data": {
      "application/javascript": [
       "parent.postMessage({\"jupyterEvent\": \"custom.exercise_interaction\", \"data\": {\"outcomeType\": 1, \"valueTowardsCompletion\": 0.16666666666666666, \"interactionType\": 1, \"questionType\": 1, \"questionId\": \"4_SortedVarieties\", \"learnToolsVersion\": \"0.3.4\", \"failureMessage\": \"\", \"exceptionClass\": \"\", \"trace\": \"\"}}, \"*\")"
      ],
      "text/plain": [
       "<IPython.core.display.Javascript object>"
      ]
     },
     "metadata": {},
     "output_type": "display_data"
    },
    {
     "data": {
      "text/markdown": [
       "<span style=\"color:#33cc33\">Correct</span>"
      ],
      "text/plain": [
       "Correct"
      ]
     },
     "metadata": {},
     "output_type": "display_data"
    }
   ],
   "source": [
    "sorted_varieties = price_extremes.sort_values(by=['min', 'max'], ascending = False)\n",
    "\n",
    "\n",
    "# Check your answer\n",
    "q4.check()"
   ]
  },
  {
   "cell_type": "code",
   "execution_count": 9,
   "id": "9762f6d0",
   "metadata": {
    "execution": {
     "iopub.execute_input": "2022-07-10T17:46:32.963672Z",
     "iopub.status.busy": "2022-07-10T17:46:32.962902Z",
     "iopub.status.idle": "2022-07-10T17:46:32.966673Z",
     "shell.execute_reply": "2022-07-10T17:46:32.965868Z"
    },
    "papermill": {
     "duration": 0.012728,
     "end_time": "2022-07-10T17:46:32.968694",
     "exception": false,
     "start_time": "2022-07-10T17:46:32.955966",
     "status": "completed"
    },
    "tags": []
   },
   "outputs": [],
   "source": [
    "#q4.hint()\n",
    "#q4.solution()"
   ]
  },
  {
   "cell_type": "markdown",
   "id": "02764b33",
   "metadata": {
    "papermill": {
     "duration": 0.00538,
     "end_time": "2022-07-10T17:46:32.980062",
     "exception": false,
     "start_time": "2022-07-10T17:46:32.974682",
     "status": "completed"
    },
    "tags": []
   },
   "source": [
    "## 5.\n",
    "Create a `Series` whose index is reviewers and whose values is the average review score given out by that reviewer. Hint: you will need the `taster_name` and `points` columns."
   ]
  },
  {
   "cell_type": "code",
   "execution_count": 10,
   "id": "be7980fa",
   "metadata": {
    "execution": {
     "iopub.execute_input": "2022-07-10T17:46:32.993162Z",
     "iopub.status.busy": "2022-07-10T17:46:32.992456Z",
     "iopub.status.idle": "2022-07-10T17:46:33.011108Z",
     "shell.execute_reply": "2022-07-10T17:46:33.010316Z"
    },
    "papermill": {
     "duration": 0.027225,
     "end_time": "2022-07-10T17:46:33.012838",
     "exception": false,
     "start_time": "2022-07-10T17:46:32.985613",
     "status": "completed"
    },
    "tags": []
   },
   "outputs": [
    {
     "data": {
      "application/javascript": [
       "parent.postMessage({\"jupyterEvent\": \"custom.exercise_interaction\", \"data\": {\"outcomeType\": 1, \"valueTowardsCompletion\": 0.16666666666666666, \"interactionType\": 1, \"questionType\": 1, \"questionId\": \"5_ReviewerMeanRatings\", \"learnToolsVersion\": \"0.3.4\", \"failureMessage\": \"\", \"exceptionClass\": \"\", \"trace\": \"\"}}, \"*\")"
      ],
      "text/plain": [
       "<IPython.core.display.Javascript object>"
      ]
     },
     "metadata": {},
     "output_type": "display_data"
    },
    {
     "data": {
      "text/markdown": [
       "<span style=\"color:#33cc33\">Correct</span>"
      ],
      "text/plain": [
       "Correct"
      ]
     },
     "metadata": {},
     "output_type": "display_data"
    }
   ],
   "source": [
    "reviewer_mean_ratings = reviews.groupby('taster_name').points.mean()\n",
    "\n",
    "# Check your answer\n",
    "q5.check()"
   ]
  },
  {
   "cell_type": "code",
   "execution_count": 11,
   "id": "0871e3d3",
   "metadata": {
    "execution": {
     "iopub.execute_input": "2022-07-10T17:46:33.026430Z",
     "iopub.status.busy": "2022-07-10T17:46:33.025776Z",
     "iopub.status.idle": "2022-07-10T17:46:33.029478Z",
     "shell.execute_reply": "2022-07-10T17:46:33.028580Z"
    },
    "papermill": {
     "duration": 0.012971,
     "end_time": "2022-07-10T17:46:33.031454",
     "exception": false,
     "start_time": "2022-07-10T17:46:33.018483",
     "status": "completed"
    },
    "tags": []
   },
   "outputs": [],
   "source": [
    "#q5.hint()\n",
    "#q5.solution()"
   ]
  },
  {
   "cell_type": "markdown",
   "id": "7ed5fa13",
   "metadata": {
    "papermill": {
     "duration": 0.005525,
     "end_time": "2022-07-10T17:46:33.042927",
     "exception": false,
     "start_time": "2022-07-10T17:46:33.037402",
     "status": "completed"
    },
    "tags": []
   },
   "source": [
    "Are there significant differences in the average scores assigned by the various reviewers? Run the cell below to use the `describe()` method to see a summary of the range of values."
   ]
  },
  {
   "cell_type": "code",
   "execution_count": 12,
   "id": "b81a2671",
   "metadata": {
    "execution": {
     "iopub.execute_input": "2022-07-10T17:46:33.057139Z",
     "iopub.status.busy": "2022-07-10T17:46:33.056718Z",
     "iopub.status.idle": "2022-07-10T17:46:33.069260Z",
     "shell.execute_reply": "2022-07-10T17:46:33.068466Z"
    },
    "papermill": {
     "duration": 0.021917,
     "end_time": "2022-07-10T17:46:33.071169",
     "exception": false,
     "start_time": "2022-07-10T17:46:33.049252",
     "status": "completed"
    },
    "tags": []
   },
   "outputs": [
    {
     "data": {
      "text/plain": [
       "count    19.000000\n",
       "mean     88.233026\n",
       "std       1.243610\n",
       "min      85.855422\n",
       "25%      87.323501\n",
       "50%      88.536235\n",
       "75%      88.975256\n",
       "max      90.562551\n",
       "Name: points, dtype: float64"
      ]
     },
     "execution_count": 12,
     "metadata": {},
     "output_type": "execute_result"
    }
   ],
   "source": [
    "reviewer_mean_ratings.describe()"
   ]
  },
  {
   "cell_type": "markdown",
   "id": "278ebf7f",
   "metadata": {
    "papermill": {
     "duration": 0.005826,
     "end_time": "2022-07-10T17:46:33.083200",
     "exception": false,
     "start_time": "2022-07-10T17:46:33.077374",
     "status": "completed"
    },
    "tags": []
   },
   "source": [
    "## 6.\n",
    "What combination of countries and varieties are most common? Create a `Series` whose index is a `MultiIndex`of `{country, variety}` pairs. For example, a pinot noir produced in the US should map to `{\"US\", \"Pinot Noir\"}`. Sort the values in the `Series` in descending order based on wine count."
   ]
  },
  {
   "cell_type": "code",
   "execution_count": 13,
   "id": "bbe8f835",
   "metadata": {
    "execution": {
     "iopub.execute_input": "2022-07-10T17:46:33.097340Z",
     "iopub.status.busy": "2022-07-10T17:46:33.096672Z",
     "iopub.status.idle": "2022-07-10T17:46:33.134389Z",
     "shell.execute_reply": "2022-07-10T17:46:33.133426Z"
    },
    "papermill": {
     "duration": 0.047463,
     "end_time": "2022-07-10T17:46:33.136595",
     "exception": false,
     "start_time": "2022-07-10T17:46:33.089132",
     "status": "completed"
    },
    "tags": []
   },
   "outputs": [
    {
     "data": {
      "application/javascript": [
       "parent.postMessage({\"jupyterEvent\": \"custom.exercise_interaction\", \"data\": {\"outcomeType\": 1, \"valueTowardsCompletion\": 0.16666666666666666, \"interactionType\": 1, \"questionType\": 1, \"questionId\": \"6_GroupbyCountryVariety\", \"learnToolsVersion\": \"0.3.4\", \"failureMessage\": \"\", \"exceptionClass\": \"\", \"trace\": \"\"}}, \"*\")"
      ],
      "text/plain": [
       "<IPython.core.display.Javascript object>"
      ]
     },
     "metadata": {},
     "output_type": "display_data"
    },
    {
     "data": {
      "text/markdown": [
       "<span style=\"color:#33cc33\">Correct</span>"
      ],
      "text/plain": [
       "Correct"
      ]
     },
     "metadata": {},
     "output_type": "display_data"
    }
   ],
   "source": [
    "country_variety_counts = reviews.groupby(['country', 'variety']).variety.count().sort_values(ascending = False)\n",
    "\n",
    "\n",
    "# Check your answer\n",
    "q6.check()"
   ]
  },
  {
   "cell_type": "code",
   "execution_count": 14,
   "id": "c873891b",
   "metadata": {
    "execution": {
     "iopub.execute_input": "2022-07-10T17:46:33.150934Z",
     "iopub.status.busy": "2022-07-10T17:46:33.150564Z",
     "iopub.status.idle": "2022-07-10T17:46:33.154870Z",
     "shell.execute_reply": "2022-07-10T17:46:33.153646Z"
    },
    "papermill": {
     "duration": 0.014172,
     "end_time": "2022-07-10T17:46:33.157213",
     "exception": false,
     "start_time": "2022-07-10T17:46:33.143041",
     "status": "completed"
    },
    "tags": []
   },
   "outputs": [],
   "source": [
    "#q6.hint()\n",
    "#q6.solution()"
   ]
  },
  {
   "cell_type": "markdown",
   "id": "bb607c55",
   "metadata": {
    "papermill": {
     "duration": 0.005878,
     "end_time": "2022-07-10T17:46:33.169466",
     "exception": false,
     "start_time": "2022-07-10T17:46:33.163588",
     "status": "completed"
    },
    "tags": []
   },
   "source": [
    "# Keep going\n",
    "\n",
    "Move on to the [**data types and missing data**](https://www.kaggle.com/residentmario/data-types-and-missing-values)."
   ]
  },
  {
   "cell_type": "markdown",
   "id": "c7a1aa47",
   "metadata": {
    "papermill": {
     "duration": 0.005691,
     "end_time": "2022-07-10T17:46:33.181190",
     "exception": false,
     "start_time": "2022-07-10T17:46:33.175499",
     "status": "completed"
    },
    "tags": []
   },
   "source": [
    "---\n",
    "\n",
    "\n",
    "\n",
    "\n",
    "*Have questions or comments? Visit the [course discussion forum](https://www.kaggle.com/learn/pandas/discussion) to chat with other learners.*"
   ]
  }
 ],
 "metadata": {
  "kernelspec": {
   "display_name": "Python 3",
   "language": "python",
   "name": "python3"
  },
  "language_info": {
   "codemirror_mode": {
    "name": "ipython",
    "version": 3
   },
   "file_extension": ".py",
   "mimetype": "text/x-python",
   "name": "python",
   "nbconvert_exporter": "python",
   "pygments_lexer": "ipython3",
   "version": "3.7.12"
  },
  "papermill": {
   "default_parameters": {},
   "duration": 13.88643,
   "end_time": "2022-07-10T17:46:33.909380",
   "environment_variables": {},
   "exception": null,
   "input_path": "__notebook__.ipynb",
   "output_path": "__notebook__.ipynb",
   "parameters": {},
   "start_time": "2022-07-10T17:46:20.022950",
   "version": "2.3.4"
  }
 },
 "nbformat": 4,
 "nbformat_minor": 5
}
